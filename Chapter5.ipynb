{
 "cells": [
  {
   "cell_type": "markdown",
   "metadata": {},
   "source": [
    "#### 通过主成分分析进行无监督降维"
   ]
  },
  {
   "cell_type": "markdown",
   "metadata": {},
   "source": [
    "关于特征选择和特征提取的区别：\n",
    "\n",
    "* 特征选择：获取或者保留的是原始特征集合的一个子集，仍然是\"original features\"；\n",
    "* 特征提取：是将待处理的数据集投影到一个新的特征空间。\n",
    "\n",
    "特征提取可以理解为一种数据压缩方法，目的是保留大部分相关信息。在实践中，特征提取不仅用于改善存储空间或者学习算法的计算效率，还可以通过缓解维数灾难(curse of dimensionality)来提高预测性能，尤其是在使用正则化模型时。"
   ]
  },
  {
   "cell_type": "markdown",
   "metadata": {},
   "source": [
    "#### 主成分分析(Principal component analysis, PCA)的主要步骤"
   ]
  },
  {
   "cell_type": "markdown",
   "metadata": {},
   "source": [
    "无监督(unsupervised)的主成分分析方法, 帮助我们根据特征之间的相关性识别数据模式。简言之，PCA旨在找到高维数据中方差最大的方向，并将数据投影到与原始特征空间相同或更少的子空间上。\n",
    "\n",
    "如下图所示，在新的特征轴相互正交的约束下，主成分可以理解为方差最大的方向："
   ]
  },
  {
   "cell_type": "code",
   "execution_count": 3,
   "metadata": {},
   "outputs": [
    {
     "ename": "ModuleNotFoundError",
     "evalue": "No module named 'Ipython'",
     "output_type": "error",
     "traceback": [
      "\u001b[1;31m---------------------------------------------------------------------------\u001b[0m",
      "\u001b[1;31mModuleNotFoundError\u001b[0m                       Traceback (most recent call last)",
      "Cell \u001b[1;32mIn[3], line 1\u001b[0m\n\u001b[1;32m----> 1\u001b[0m \u001b[38;5;28;01mfrom\u001b[39;00m \u001b[38;5;21;01mIpython\u001b[39;00m\u001b[38;5;21;01m.\u001b[39;00m\u001b[38;5;21;01mdisplay\u001b[39;00m \u001b[38;5;28;01mimport\u001b[39;00m Image\n",
      "\u001b[1;31mModuleNotFoundError\u001b[0m: No module named 'Ipython'"
     ]
    }
   ],
   "source": [
    "from IPython.display import Image\n",
    "\n",
    "Image(filename='../Python-MachineLearning/Attached_images/Chapter5/figures')"
   ]
  }
 ],
 "metadata": {
  "kernelspec": {
   "display_name": "pyml-book",
   "language": "python",
   "name": "python3"
  },
  "language_info": {
   "codemirror_mode": {
    "name": "ipython",
    "version": 3
   },
   "file_extension": ".py",
   "mimetype": "text/x-python",
   "name": "python",
   "nbconvert_exporter": "python",
   "pygments_lexer": "ipython3",
   "version": "3.9.19"
  }
 },
 "nbformat": 4,
 "nbformat_minor": 2
}

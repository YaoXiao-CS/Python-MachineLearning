{
 "cells": [
  {
   "cell_type": "code",
   "execution_count": 1,
   "metadata": {},
   "outputs": [
    {
     "name": "stdout",
     "output_type": "stream",
     "text": [
      "P(y >= 6) = 0.03432750701904297\n"
     ]
    }
   ],
   "source": [
    "import math\n",
    "\n",
    "# 定义计算组合数的函数\n",
    "def combination(n, k):\n",
    "    return math.factorial(n) // (math.factorial(k) * math.factorial(n - k))\n",
    "\n",
    "# 定义计算概率的函数\n",
    "def calculate_probability(n, k, p):\n",
    "    total_probability = 0\n",
    "    for i in range(k, n + 1):\n",
    "        total_probability += combination(n, i) * (p ** i) * ((1 - p) ** (n - i))\n",
    "    return total_probability\n",
    "\n",
    "# 给定的参数\n",
    "n = 11  # 基学习器的总数\n",
    "k = 6   # 至少需要正确预测的基学习器数量\n",
    "p = 0.25  # 单个基学习器正确预测的概率\n",
    "\n",
    "# 计算概率\n",
    "probability = calculate_probability(n, k, p)\n",
    "print(f\"P(y >= {k}) = {probability}\")"
   ]
  },
  {
   "cell_type": "code",
   "execution_count": null,
   "metadata": {},
   "outputs": [],
   "source": []
  }
 ],
 "metadata": {
  "kernelspec": {
   "display_name": "pyml-book",
   "language": "python",
   "name": "python3"
  },
  "language_info": {
   "codemirror_mode": {
    "name": "ipython",
    "version": 3
   },
   "file_extension": ".py",
   "mimetype": "text/x-python",
   "name": "python",
   "nbconvert_exporter": "python",
   "pygments_lexer": "ipython3",
   "version": "3.9.19"
  }
 },
 "nbformat": 4,
 "nbformat_minor": 2
}

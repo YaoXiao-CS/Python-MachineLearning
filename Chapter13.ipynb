{
 "cells": [
  {
   "cell_type": "code",
   "execution_count": 3,
   "metadata": {},
   "outputs": [
    {
     "name": "stdout",
     "output_type": "stream",
     "text": [
      "['..\\\\Python-MachineLearning\\\\Datasets\\\\cat_dog_images\\\\cat-01.jpg', '..\\\\Python-MachineLearning\\\\Datasets\\\\cat_dog_images\\\\cat-02.jpg', '..\\\\Python-MachineLearning\\\\Datasets\\\\cat_dog_images\\\\cat-03.jpg', '..\\\\Python-MachineLearning\\\\Datasets\\\\cat_dog_images\\\\dog-01.jpg', '..\\\\Python-MachineLearning\\\\Datasets\\\\cat_dog_images\\\\dog-02.jpg', '..\\\\Python-MachineLearning\\\\Datasets\\\\cat_dog_images\\\\dog-03.jpg']\n"
     ]
    }
   ],
   "source": [
    "import pathlib\n",
    "\n",
    "imdir_path = pathlib.Path('../Python-MachineLearning/Datasets/cat_dog_images')\n",
    "file_list = [str(path) for path in imdir_path.glob('*.jpg')]\n",
    "print(file_list)"
   ]
  }
 ],
 "metadata": {
  "kernelspec": {
   "display_name": "xy_ultra",
   "language": "python",
   "name": "python3"
  },
  "language_info": {
   "codemirror_mode": {
    "name": "ipython",
    "version": 3
   },
   "file_extension": ".py",
   "mimetype": "text/x-python",
   "name": "python",
   "nbconvert_exporter": "python",
   "pygments_lexer": "ipython3",
   "version": "3.8.17"
  }
 },
 "nbformat": 4,
 "nbformat_minor": 2
}

{
 "cells": [
  {
   "cell_type": "markdown",
   "metadata": {},
   "source": [
    "##### Part1:关于本地环境的配置"
   ]
  },
  {
   "cell_type": "code",
   "execution_count": null,
   "metadata": {},
   "outputs": [],
   "source": [
    "# 创建虚拟环境,在命令行输入如下命令, newName是将要创建的环境名称\n",
    "conda create --name newName python=3.9\n",
    "\t# 激活新建的虚拟环境\n",
    "activate newName\n",
    "\t# 查看已有的虚拟环境，选择你要切换到的虚拟环境\n",
    "conda info --envs\n",
    "# 或者\n",
    "conda env list\n",
    "\t# 在命令行中切换到想要的虚拟环境，我这里切换到newName\n",
    "conda activate newName\n",
    "\t# 在当前的paddle环境中安装好ipykernel\n",
    "conda install ipykernel\n",
    "\t\n",
    "python -m ipykernel install --name newName\t\n",
    "\n",
    "# 安装第三方工具包,进入到requirements.txt所在路径\n",
    "pip install -r requirements-ch01.txt"
   ]
  },
  {
   "cell_type": "markdown",
   "metadata": {},
   "source": [
    "#### Part2:章节代码"
   ]
  },
  {
   "cell_type": "markdown",
   "metadata": {},
   "source": [
    "这一章节中没有代码，可以参见[第一章对应的PPT](https://github.com/YaoXiao-CS/Python-MachineLearning/blob/main/Slides/L01-intro_slides.pdf)."
   ]
  }
 ],
 "metadata": {
  "kernelspec": {
   "display_name": "pyml-book",
   "language": "python",
   "name": "python3"
  },
  "language_info": {
   "codemirror_mode": {
    "name": "ipython",
    "version": 3
   },
   "file_extension": ".py",
   "mimetype": "text/x-python",
   "name": "python",
   "nbconvert_exporter": "python",
   "pygments_lexer": "ipython3",
   "version": "3.9.19"
  }
 },
 "nbformat": 4,
 "nbformat_minor": 2
}

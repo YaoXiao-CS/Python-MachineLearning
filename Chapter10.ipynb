{
 "cells": [
  {
   "cell_type": "markdown",
   "metadata": {},
   "source": [
    "本章主要聚焦于聚类分析，它是一种无监督学习技术。其目的在于在数据中找到一个自然的分组，以便使同一簇(clustering)中的样本具有相同的模式，即更加相似。"
   ]
  },
  {
   "cell_type": "code",
   "execution_count": null,
   "metadata": {},
   "outputs": [],
   "source": []
  }
 ],
 "metadata": {
  "language_info": {
   "name": "python"
  }
 },
 "nbformat": 4,
 "nbformat_minor": 2
}

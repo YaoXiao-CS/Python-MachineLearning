{
 "cells": [
  {
   "cell_type": "markdown",
   "metadata": {},
   "source": [
    "#### 获取原始数据"
   ]
  },
  {
   "cell_type": "code",
   "execution_count": 12,
   "metadata": {},
   "outputs": [
    {
     "data": {
      "text/plain": [
       "\"\\nimport os\\nimport tarfile\\n\\ntarget = '../Python-MachineLearning/Datasets/IMDB_data/aclImdb_v1.tar.gz'\\n\\nif not os.path.isdir('../Python-MachineLearning/Datasets/IMDB_data/aclImdb'):\\n\\n    with tarfile.open(target, 'r:gz') as tar:\\n        tar.extractall()\\n\""
      ]
     },
     "execution_count": 12,
     "metadata": {},
     "output_type": "execute_result"
    }
   ],
   "source": [
    "# 原始数据下载链接 https://ai.stanford.edu/~amaas/data/sentiment/\n",
    "\"\"\"\n",
    "import os\n",
    "import tarfile\n",
    "\n",
    "target = '../Python-MachineLearning/Datasets/IMDB_data/aclImdb_v1.tar.gz'\n",
    "\n",
    "if not os.path.isdir('../Python-MachineLearning/Datasets/IMDB_data/aclImdb'):\n",
    "\n",
    "    with tarfile.open(target, 'r:gz') as tar:\n",
    "        tar.extractall()\n",
    "\"\"\""
   ]
  },
  {
   "cell_type": "markdown",
   "metadata": {},
   "source": [
    "#### 将解压提取的数据转换为DataFrame"
   ]
  },
  {
   "cell_type": "code",
   "execution_count": 13,
   "metadata": {},
   "outputs": [],
   "source": [
    "import pyprind\n",
    "import pandas as pd\n",
    "import os\n",
    "import sys\n",
    "from packaging import version\n",
    "\n",
    "\n",
    "# # change the `basepath` to the directory of the\n",
    "# # unzipped movie dataset\n",
    "\n",
    "# basepath = r'C:/Users/Administrator/Desktop/aclImdb/'\n",
    "\n",
    "# labels = {'pos': 1, 'neg': 0}\n",
    "\n",
    "# # if the progress bar does not show, change stream=sys.stdout to stream=2\n",
    "# pbar = pyprind.ProgBar(50000, stream=sys.stdout)\n",
    "\n",
    "# df = pd.DataFrame()\n",
    "# for s in ('test', 'train'):\n",
    "#     for l in ('pos', 'neg'):\n",
    "#         path = os.path.join(basepath, s, l)\n",
    "#         for file in sorted(os.listdir(path)):\n",
    "#             with open(os.path.join(path, file), \n",
    "#                       'r', encoding='utf-8') as infile:\n",
    "#                 txt = infile.read()\n",
    "                \n",
    "#             if version.parse(pd.__version__) >= version.parse(\"1.3.2\"):\n",
    "#                 x = pd.DataFrame([[txt, labels[l]]], columns=['review', 'sentiment'])\n",
    "#                 df = pd.concat([df, x], ignore_index=False)\n",
    "\n",
    "#             else:\n",
    "#                 df = df.append([[txt, labels[l]]], \n",
    "#                                ignore_index=True)\n",
    "#             pbar.update()\n",
    "# df.columns = ['review', 'sentiment']"
   ]
  },
  {
   "cell_type": "code",
   "execution_count": 14,
   "metadata": {},
   "outputs": [],
   "source": [
    "# 将处理好的数据保存到本地CSV.\n",
    "# print(pd.__version__)       # 1.3.2\n",
    "\n",
    "# import numpy as np\n",
    "\n",
    "# np.random.seed(0)\n",
    "# df = df.reindex(np.random.permutation(df.index))\n",
    "# df.to_csv('C:/Users/Administrator/Desktop/movie_data.csv', index=False, encoding='utf-8')"
   ]
  },
  {
   "cell_type": "code",
   "execution_count": 16,
   "metadata": {},
   "outputs": [
    {
     "data": {
      "text/html": [
       "<div>\n",
       "<style scoped>\n",
       "    .dataframe tbody tr th:only-of-type {\n",
       "        vertical-align: middle;\n",
       "    }\n",
       "\n",
       "    .dataframe tbody tr th {\n",
       "        vertical-align: top;\n",
       "    }\n",
       "\n",
       "    .dataframe thead th {\n",
       "        text-align: right;\n",
       "    }\n",
       "</style>\n",
       "<table border=\"1\" class=\"dataframe\">\n",
       "  <thead>\n",
       "    <tr style=\"text-align: right;\">\n",
       "      <th></th>\n",
       "      <th>review</th>\n",
       "      <th>sentiment</th>\n",
       "    </tr>\n",
       "  </thead>\n",
       "  <tbody>\n",
       "    <tr>\n",
       "      <th>0</th>\n",
       "      <td>I went and saw this movie last night after bei...</td>\n",
       "      <td>1</td>\n",
       "    </tr>\n",
       "    <tr>\n",
       "      <th>1</th>\n",
       "      <td>Actor turned director Bill Paxton follows up h...</td>\n",
       "      <td>1</td>\n",
       "    </tr>\n",
       "    <tr>\n",
       "      <th>2</th>\n",
       "      <td>As a recreational golfer with some knowledge o...</td>\n",
       "      <td>1</td>\n",
       "    </tr>\n",
       "  </tbody>\n",
       "</table>\n",
       "</div>"
      ],
      "text/plain": [
       "                                              review  sentiment\n",
       "0  I went and saw this movie last night after bei...          1\n",
       "1  Actor turned director Bill Paxton follows up h...          1\n",
       "2  As a recreational golfer with some knowledge o...          1"
      ]
     },
     "execution_count": 16,
     "metadata": {},
     "output_type": "execute_result"
    }
   ],
   "source": [
    "# 从Datasets/Imdb_data目录下读取处理好的IMDB数据集.\n",
    "df = pd.read_csv('../Python-MachineLearning/Datasets/Imdb_data/movie_data.zip', encoding='utf-8')\n",
    "df = df.rename(columns={\"0\": \"review\", \"1\": \"sentiment\"})\n",
    "df.head(3)"
   ]
  },
  {
   "cell_type": "code",
   "execution_count": 17,
   "metadata": {},
   "outputs": [
    {
     "name": "stdout",
     "output_type": "stream",
     "text": [
      "(50000, 2)\n"
     ]
    }
   ],
   "source": [
    "print(df.shape)"
   ]
  },
  {
   "cell_type": "markdown",
   "metadata": {},
   "source": [
    "#### 引言--介绍词袋模型"
   ]
  },
  {
   "cell_type": "code",
   "execution_count": 18,
   "metadata": {},
   "outputs": [],
   "source": [
    " # 将词转换为特征向量.\n",
    "import numpy as np\n",
    "from sklearn.feature_extraction.text import CountVectorizer\n",
    "\n",
    "count = CountVectorizer()\n",
    "docs = np.array([\n",
    "        'The sun is shining',\n",
    "        'The weather is sweet',\n",
    "        'The sun is shining, the weather is sweet, and one and one is two'])\n",
    "\n",
    "bag = count.fit_transform(docs)"
   ]
  },
  {
   "cell_type": "code",
   "execution_count": 19,
   "metadata": {},
   "outputs": [
    {
     "name": "stdout",
     "output_type": "stream",
     "text": [
      "{'the': 6, 'sun': 4, 'is': 1, 'shining': 3, 'weather': 8, 'sweet': 5, 'and': 0, 'one': 2, 'two': 7}\n"
     ]
    }
   ],
   "source": [
    "print(count.vocabulary_)"
   ]
  },
  {
   "cell_type": "code",
   "execution_count": 20,
   "metadata": {},
   "outputs": [
    {
     "name": "stdout",
     "output_type": "stream",
     "text": [
      "[[0 1 0 1 1 0 1 0 0]\n",
      " [0 1 0 0 0 1 1 0 1]\n",
      " [2 3 2 1 1 1 2 1 1]]\n"
     ]
    }
   ],
   "source": [
    "# 每一列是一个特征(词)向量， 第一列为\"and\"，它在第三个句子里面出现了2次.\n",
    "print(bag.toarray())"
   ]
  },
  {
   "cell_type": "markdown",
   "metadata": {},
   "source": [
    "#### 通过词频-逆文档指数评估词的相关性"
   ]
  },
  {
   "cell_type": "markdown",
   "metadata": {},
   "source": [
    "有时候，一些词会频繁出现在多个文档中，这些频繁词通常不包含有用或具有区分度(discriminatory)的信息.所以可以通过使用`term frequency-inverse document frequency(tf-idf)`， 它可以降低特征向量中对应的高频词的权重。其定义如下：\n",
    "\n",
    "$$tf-idf(t,d)=tf(t,d)\\times idf(t,d)$$\n",
    "\n",
    "其中，$tf(t,d)$是特定的term $t$在文档中出现的频次， $idf(t,d)$是逆文档频率，其定义如下：\n",
    "\n",
    "$$idf(t,d)=\\log\\frac{n_d}{1+df(d,t)}$$\n",
    "\n",
    "其中，$n_d$是文档总个数，$df(d,t)$是包含有term $t$的文档数量."
   ]
  },
  {
   "cell_type": "code",
   "execution_count": 21,
   "metadata": {},
   "outputs": [
    {
     "name": "stdout",
     "output_type": "stream",
     "text": [
      "  (0, 1)\t0.4337078595086741\n",
      "  (0, 3)\t0.5584778353707552\n",
      "  (0, 4)\t0.5584778353707552\n",
      "  (0, 6)\t0.4337078595086741\n",
      "  (1, 1)\t0.4337078595086741\n",
      "  (1, 5)\t0.5584778353707552\n",
      "  (1, 6)\t0.4337078595086741\n",
      "  (1, 8)\t0.5584778353707552\n",
      "  (2, 0)\t0.5023864481078999\n",
      "  (2, 1)\t0.4450762939064939\n",
      "  (2, 2)\t0.5023864481078999\n",
      "  (2, 3)\t0.19103892151222399\n",
      "  (2, 4)\t0.19103892151222399\n",
      "  (2, 5)\t0.19103892151222399\n",
      "  (2, 6)\t0.29671752927099593\n",
      "  (2, 7)\t0.25119322405394995\n",
      "  (2, 8)\t0.19103892151222399\n"
     ]
    }
   ],
   "source": [
    "from sklearn.feature_extraction.text import TfidfTransformer\n",
    "\n",
    "tfidf = TfidfTransformer(use_idf=True, \n",
    "                         norm='l2', \n",
    "                         smooth_idf=True)\n",
    "np.set_printoptions(precision=2)\n",
    "print(tfidf.fit_transform(bag))"
   ]
  },
  {
   "cell_type": "code",
   "execution_count": 24,
   "metadata": {},
   "outputs": [
    {
     "name": "stdout",
     "output_type": "stream",
     "text": [
      "[[0.   0.43 0.   0.56 0.56 0.   0.43 0.   0.  ]\n",
      " [0.   0.43 0.   0.   0.   0.56 0.43 0.   0.56]\n",
      " [0.5  0.45 0.5  0.19 0.19 0.19 0.3  0.25 0.19]]\n"
     ]
    }
   ],
   "source": [
    "# 所以，上面的输出结果中，仅包含有非零项.\n",
    "print(tfidf.fit_transform(bag).toarray())"
   ]
  },
  {
   "cell_type": "markdown",
   "metadata": {},
   "source": [
    "#### sklearn中tf-idf的实现"
   ]
  },
  {
   "cell_type": "markdown",
   "metadata": {},
   "source": [
    "sklearn中tf-idf的实现如下：\n",
    "\n",
    "$$idf(t,d)=\\log\\frac{1+n_d}{1+df(d,t)}$$\n",
    "\n",
    "对应的有：\n",
    "\n",
    "$$tf-idf(t,d)=tf(t,d)\\times(idf(t,d)+1)$$\n",
    "\n",
    "这里分子的加1对应于上述参数设置\"smooth_idf=True\". 它的效果是为出现在所有文档中的词赋予 权重 零.\n",
    "\n",
    "此外，除了可以对原始词频进行归一化，TfidfTransformer类会直接对tf-idfs进行归一化，对应于上述参数\"norm=l2\", 其定义如下：\n",
    "\n",
    "$$v_{norm}=\\frac{v}{\\|v\\|_{2}}=\\frac{v}{\\sqrt{v_{1}^{2}+v_{2}^{2}+\\cdots+v_{n}^{2}}}=\\frac{v}{(\\sum_{i=1}^{n}v_{i}^{2})^{1/2}}$$"
   ]
  },
  {
   "cell_type": "markdown",
   "metadata": {},
   "source": [
    "#### 一个计算示例"
   ]
  },
  {
   "cell_type": "markdown",
   "metadata": {},
   "source": [
    "以\"is\"为例：\n",
    "\n",
    "$$idf(\"\\text{is\"},d_3)=\\log\\frac{1+3}{1+3}=0$$\n",
    "\n",
    "所以有：\n",
    "$$tf-idf(\"is\",d_3)=3\\times(0+1)=3$$\n",
    "\n",
    "重复上述计算过程，得到tf-idf向量为：$\\text{vectors: [3.39, 3.0, 3.39, 1.29, 1.29, 1.29, 2.0, 1.69, 1.29]}$\n",
    "\n",
    "所以有在进行L2归一化之后得到：\n",
    "\n",
    "$$\\begin{aligned}tf-idf(d_{3})_{norm}&=\\quad\\frac{[3.39,3.0,3.39,1.29,1.29,1.29,2.0,1.69,1.29]}{\\sqrt{3.39^2+3.0^2+3.39^2+1.29^2+1.29^2+1.29^2+2.0^2+1.69^2+1.29^2}}\\\\&=\\quad[0.5,0.45,0.5,0.19,0.19,0.19,0.3,0.25,0.19]\\end{aligned}$$\n",
    "\n",
    "同时，可以看到：\n",
    "$$tf-idf(\"is\",d_3)\\quad=\\quad0.45$$"
   ]
  },
  {
   "cell_type": "markdown",
   "metadata": {},
   "source": [
    "#### 文本数据清洗"
   ]
  },
  {
   "cell_type": "code",
   "execution_count": null,
   "metadata": {},
   "outputs": [],
   "source": []
  }
 ],
 "metadata": {
  "kernelspec": {
   "display_name": "pyml-book",
   "language": "python",
   "name": "python3"
  },
  "language_info": {
   "codemirror_mode": {
    "name": "ipython",
    "version": 3
   },
   "file_extension": ".py",
   "mimetype": "text/x-python",
   "name": "python",
   "nbconvert_exporter": "python",
   "pygments_lexer": "ipython3",
   "version": "3.9.19"
  }
 },
 "nbformat": 4,
 "nbformat_minor": 2
}

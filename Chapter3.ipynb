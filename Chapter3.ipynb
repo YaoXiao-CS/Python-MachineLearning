{
 "cells": [
  {
   "cell_type": "code",
   "execution_count": 1,
   "metadata": {},
   "outputs": [],
   "source": [
    "from IPython.display import Image"
   ]
  },
  {
   "cell_type": "markdown",
   "metadata": {},
   "source": [
    "#### 利用sklearn构建感知机分类器."
   ]
  },
  {
   "cell_type": "code",
   "execution_count": 4,
   "metadata": {},
   "outputs": [
    {
     "name": "stdout",
     "output_type": "stream",
     "text": [
      "Class labels: [0 1 2]\n"
     ]
    }
   ],
   "source": [
    "# 从sklearn中读取iris数据集.\n",
    "from sklearn import datasets\n",
    "import numpy as np\n",
    "\n",
    "iris = datasets.load_iris()\n",
    "X = iris.data[:, [2, 3]]\n",
    "y = iris.target\n",
    "\n",
    "# np.unique(y) 的目的是找出 y 中所有不同的分类标签，并将它们打印出来.\n",
    "#  Iris-setosa, Iris-versicolor, and Iris-virginica.\n",
    "print('Class labels:', np.unique(y))"
   ]
  },
  {
   "cell_type": "code",
   "execution_count": 5,
   "metadata": {},
   "outputs": [
    {
     "name": "stdout",
     "output_type": "stream",
     "text": [
      "(105, 2) (45, 2)\n",
      "(105,) (45,)\n"
     ]
    }
   ],
   "source": [
    "# 训练集和测试集划分.\n",
    "from sklearn.model_selection import train_test_split\n",
    "\n",
    "X_train, X_test, y_train, y_test = train_test_split(\n",
    "    X, y, test_size = 0.3, random_state = 1, stratify=y)\n",
    "\n",
    "print(X_train.shape, X_test.shape)\n",
    "print(y_train.shape, y_test.shape)"
   ]
  },
  {
   "cell_type": "markdown",
   "metadata": {},
   "source": [
    "通过设置stratify=y, 在这种情况下，分层意味着 train_test_split 方法返回具有与输入数据集相同类标签比例的训练和测试子集."
   ]
  },
  {
   "cell_type": "code",
   "execution_count": 6,
   "metadata": {},
   "outputs": [
    {
     "name": "stdout",
     "output_type": "stream",
     "text": [
      "Labels count in y: [50 50 50]\n",
      "Labels counts in y_train: [35 35 35]\n",
      "Labels counts in y_test: [15 15 15]\n"
     ]
    }
   ],
   "source": [
    "# 使用 np.bincount(y_train) 的目的是统计每个分类标签在数据集中出现的次数.\n",
    "print('Labels count in y:', np.bincount(y))\n",
    "print('Labels counts in y_train:', np.bincount(y_train))\n",
    "print('Labels counts in y_test:', np.bincount(y_test))"
   ]
  },
  {
   "cell_type": "code",
   "execution_count": 9,
   "metadata": {},
   "outputs": [
    {
     "name": "stdout",
     "output_type": "stream",
     "text": [
      "2.4933333333333327 1.891674323458387\n",
      "1.0150610510858574e-16 0.9999999999999999\n"
     ]
    }
   ],
   "source": [
    "\"\"\"\n",
    "    如Chapter2中提到的那样，Gradient Descent等算法对特征尺度敏感，因此\n",
    "    这里首先进行特征标准化处理。\n",
    "\"\"\"\n",
    "from sklearn.preprocessing import StandardScaler\n",
    "\n",
    "sc = StandardScaler()\n",
    "sc.fit(X_train)\n",
    "\n",
    "# 标准化变换.\n",
    "X_train_std = sc.transform(X_train)\n",
    "X_test_std = sc.transform(X_test)\n",
    "\n",
    "print(X_train.mean(), X_train.std())\n",
    "print(X_train_std.mean(), X_train_std.std())"
   ]
  },
  {
   "cell_type": "code",
   "execution_count": 11,
   "metadata": {},
   "outputs": [
    {
     "data": {
      "text/plain": [
       "Perceptron(eta0=0.1, random_state=1)"
      ]
     },
     "execution_count": 11,
     "metadata": {},
     "output_type": "execute_result"
    }
   ],
   "source": [
    "# 利用sklearn构建一个感知器分类模型.\n",
    "from sklearn.linear_model import Perceptron\n",
    "\n",
    "ppn = Perceptron(eta0=0.1, random_state=1)\n",
    "ppn.fit(X_train_std, y_train)"
   ]
  },
  {
   "cell_type": "code",
   "execution_count": 12,
   "metadata": {},
   "outputs": [
    {
     "name": "stdout",
     "output_type": "stream",
     "text": [
      "错误分类的样本数量: 1\n"
     ]
    }
   ],
   "source": [
    "y_pred = ppn.predict(X_test_std)\n",
    "print('错误分类的样本数量: %d' %(y_test != y_pred).sum())"
   ]
  },
  {
   "cell_type": "code",
   "execution_count": 14,
   "metadata": {},
   "outputs": [
    {
     "name": "stdout",
     "output_type": "stream",
     "text": [
      "The trained model's Accuracy: 0.978\n"
     ]
    }
   ],
   "source": [
    "# 使用sklearn.metrics中提供的模型评估指标.\n",
    "from sklearn.metrics import accuracy_score\n",
    "\n",
    "print(\"The trained model's Accuracy: %.3f\" % accuracy_score(y_test, y_pred))"
   ]
  },
  {
   "cell_type": "code",
   "execution_count": 15,
   "metadata": {},
   "outputs": [
    {
     "name": "stdout",
     "output_type": "stream",
     "text": [
      "The trained model's Accuracy: 0.978\n"
     ]
    }
   ],
   "source": [
    "\"\"\"\n",
    "scikit-learn 中的每个分类器都有一个 score 方法，\n",
    "该方法通过将 predict 调用与 accuracy_score 相结合来计算分类器的预测准确率.\n",
    "\"\"\"\n",
    "print(\"The trained model's Accuracy: %.3f\" % ppn.score(X_test_std, y_test))"
   ]
  },
  {
   "cell_type": "code",
   "execution_count": 16,
   "metadata": {},
   "outputs": [],
   "source": [
    "# 预测结果可视化--绘制决策边界(plot_decision_regions).\n",
    "from matplotlib.colors import ListedColormap\n",
    "import matplotlib.pyplot as plt\n",
    "\n",
    "\n",
    "def plot_decision_regions(X, y, classifier, test_idx=None, resolution=0.02):\n",
    "    # 设置Marker生成器和color map.\n",
    "    markers = ('o', 's', '^', 'v', '<')\n",
    "    colors = ('red', 'blue', 'lightgreen', 'gray', 'cyan')\n",
    "    cmap = ListedColormap(colors[:len(np.unique(y))])\n",
    "\n",
    "    # 绘制决策曲面.\n",
    "    x1_min, x1_max = X[:, 0].min() - 1, X[:, 0].max() + 1\n",
    "    x2_min, x2_max = X[:, 1].min() - 1, X[:, 1].max() + 1\n",
    "    xx1, xx2 = np.meshgrid(np.arange(x1_min, x1_max, resolution),\n",
    "                           np.arange(x2_min, x2_max, resolution))\n",
    "    lab = classifier.predict(np.array([xx1.ravel(), xx2.ravel()]).T)\n",
    "    lab = lab.reshape(xx1.shape)\n",
    "    plt.contourf(xx1, xx2, lab, alpha=0.3, cmap=cmap)\n",
    "    plt.xlim(xx1.min(), xx1.max())\n",
    "    plt.ylim(xx2.min(), xx2.max())\n",
    "\n",
    "    # 绘制类别样本.\n",
    "    for idx, cl in enumerate(np.unique(y)):\n",
    "        plt.scatter(x=X[y == cl, 0], \n",
    "                    y=X[y == cl, 1],\n",
    "                    alpha=0.8, \n",
    "                    c=colors[idx],\n",
    "                    marker=markers[idx], \n",
    "                    label=f'Class {cl}', \n",
    "                    edgecolor='black')\n",
    "\n",
    "    # 对测试集样本高亮显示.\n",
    "    if test_idx:\n",
    "        # 绘制所有样本.\n",
    "        X_test, y_test = X[test_idx, :], y[test_idx]\n",
    "\n",
    "        plt.scatter(X_test[:, 0],\n",
    "                    X_test[:, 1],\n",
    "                    c='none',\n",
    "                    edgecolor='black',\n",
    "                    alpha=1.0,\n",
    "                    linewidth=1,\n",
    "                    marker='o',\n",
    "                    s=100, \n",
    "                    label='Test set')"
   ]
  },
  {
   "cell_type": "code",
   "execution_count": 18,
   "metadata": {},
   "outputs": [
    {
     "data": {
      "image/png": "[encoded data removed]",
      "text/plain": [
       "<Figure size 640x480 with 1 Axes>"
      ]
     },
     "metadata": {},
     "output_type": "display_data"
    }
   ],
   "source": [
    "# 调用上述函数.\n",
    "X_combined_std = np.vstack((X_train_std, X_test_std))\n",
    "y_combined = np.hstack((y_train, y_test))\n",
    "\n",
    "plot_decision_regions(X=X_combined_std, y=y_combined, \n",
    "                      classifier=ppn, test_idx=range(105, 150))\n",
    "plt.xlabel('Petal length [standardized]')\n",
    "plt.ylabel('Petal width [standardized]')\n",
    "plt.legend(loc='upper left')\n",
    "\n",
    "plt.tight_layout()\n",
    "plt.savefig('../Python-MachineLearning/Attached_images/Chapter3/figures/03_01.png', \n",
    "            dpi=600)\n",
    "plt.show()"
   ]
  },
  {
   "cell_type": "markdown",
   "metadata": {},
   "source": [
    "从结果图中我们可以看出，三种花卉类别无法通过线性决策边界完美地分开。"
   ]
  },
  {
   "cell_type": "markdown",
   "metadata": {},
   "source": [
    "#### 通过逻辑回归建模类别概率"
   ]
  },
  {
   "cell_type": "markdown",
   "metadata": {},
   "source": [
    "感知器最大的缺点是，如果类别不是完全线性可分的，它就永远不会收敛。上一节中的分类任务就是这种情况的一个例子。\n",
    "\n",
    "逻辑回归是一种非常容易实现的分类模型，在线性可分类别上表现非常好。它是工业界最广泛使用的分类算法之一。 与感知器和 Adaline 类似，本章中的逻辑回归模型也是二分类的线性模型。"
   ]
  },
  {
   "cell_type": "markdown",
   "metadata": {},
   "source": [
    "##### 几率odds"
   ]
  },
  {
   "cell_type": "markdown",
   "metadata": {},
   "source": [
    "为了解释逻辑回归背后的主要机制，这里首先了解一下几率(odds)--有利于特定事件发生的可能性，其记录为$\\frac{p}{(1-p)}$, 其中$p$代表positive event事件发生的概率。\n",
    "\n",
    "其中，\"positive event\"并不一定意味着\"好\", 而是我们想要预测的事件。比如，给定某些症状，换着患有某种疾病的概率。为简便起见，将概率$p$定义为:\n",
    "$$p:=p(y=1|x)$$\n",
    "即，给定特征$x$, 特定样本属于类别1的条件概率(conditional probability)。\n",
    "\n",
    "进一步可以定义logit function, 它是几率的对数：\n",
    "$$\\mathrm{logit}(p)=\\mathrm{log}\\frac p{(1-p)}$$"
   ]
  },
  {
   "cell_type": "markdown",
   "metadata": {},
   "source": [
    "在Logistic model中，假设加权输入(在Chapter2中被称为净输入net input)与对数几率之间存在线形关系：\n",
    "$$\\mathrm{logit}(p)=w_1x_1+\\cdots+w_mx_m+b=\\sum_{i=j}w_jx_j+b=\\boldsymbol{w}^T\\boldsymbol{x}+b$$"
   ]
  },
  {
   "cell_type": "markdown",
   "metadata": {},
   "source": [
    "在上述内容中，讨论了对数几率和净输入之间的线性关系这一假设。但在实际生产活动中，我们关注的是具体的概率$p$。因此怎样根据输入的加权组合得到具体的概率值？\n",
    "\n",
    "这时候，可以考虑概函数的逆函数(inverse function), 从而实现将实数范围映射到$[0,1]$。该Logit function的逆函数通常被称为Logistic sigmoid function, 有时候也简称为sigmoid function：\n",
    "\n",
    "\n",
    "$$\n",
    "\\sigma(z)=\\frac1{1+e^{-z}}\n",
    "$$\n",
    "\n",
    "在上式中，$z$是净输入，并记录为$\\boldsymbol{w}^T\\boldsymbol{x}+b$。"
   ]
  },
  {
   "cell_type": "code",
   "execution_count": null,
   "metadata": {},
   "outputs": [],
   "source": [
    "# S型函数绘制.\n",
    "import matplotlib.pyplot as plt\n",
    "import numpy as np\n",
    "\n",
    "\n",
    "def sigmoid(z):\n",
    "    return 1.0 / (1.0 + np.exp(-z))\n",
    "\n",
    "z = np.arange(-7, 7, 0.1)\n",
    "sigma_z = sigmoid(z)\n",
    "\n",
    "plt.plot(z, sigma_z)\n",
    "plt.axvline(0.0, color='k')\n",
    "plt.ylim(-0.1, 1.1)\n",
    "plt.xlabel('z')\n",
    "plt.ylabel('$\\sigma (z)$')\n",
    "\n",
    "plt.yticks([0.0, 0.5, 1.0])\n",
    "ax = plt.gca()\n",
    "ax.yaxis.grid(True)\n",
    "\n",
    "plt.tight_layout()\n",
    "#plt.savefig('../Python-MachineLearning/Attached_images/Chapter3/figures/03_02.png', dpi=600)\n",
    "plt.show()"
   ]
  }
 ],
 "metadata": {
  "kernelspec": {
   "display_name": "pyml-book",
   "language": "python",
   "name": "python3"
  },
  "language_info": {
   "codemirror_mode": {
    "name": "ipython",
    "version": 3
   },
   "file_extension": ".py",
   "mimetype": "text/x-python",
   "name": "python",
   "nbconvert_exporter": "python",
   "pygments_lexer": "ipython3",
   "version": "3.9.19"
  }
 },
 "nbformat": 4,
 "nbformat_minor": 2
}
